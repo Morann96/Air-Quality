{
 "cells": [
  {
   "cell_type": "code",
   "execution_count": 2,
   "id": "f8dbc407-a74b-476b-bf9e-c6158f8042f8",
   "metadata": {
    "tags": []
   },
   "outputs": [],
   "source": [
    "import numpy as np\n",
    "import pandas as pd\n",
    "import pickle\n",
    "import os\n",
    "import matplotlib.pyplot as plt\n",
    "import seaborn as sns\n",
    "\n",
    "# Train, Test\n",
    "from sklearn.model_selection import train_test_split\n",
    "\n",
    "# Modelos\n",
    "from sklearn.linear_model import LinearRegression\n",
    "from sklearn.neighbors import KNeighborsRegressor\n",
    "from sklearn.tree import DecisionTreeRegressor\n",
    "from sklearn.ensemble import RandomForestRegressor\n",
    "from sklearn.svm import SVR\n",
    "from sklearn.ensemble import AdaBoostRegressor\n",
    "from sklearn.ensemble import GradientBoostingRegressor\n",
    "\n",
    "# Métricas\n",
    "from sklearn.metrics import mean_absolute_error\n",
    "from sklearn.metrics import mean_squared_error\n",
    "from sklearn.metrics import r2_score\n",
    "from sklearn.metrics import make_scorer\n",
    "from sklearn.model_selection import GridSearchCV, cross_val_score, KFold, TimeSeriesSplit"
   ]
  },
  {
   "cell_type": "code",
   "execution_count": 3,
   "id": "b1b2fb68-19ab-460b-b978-5cac121a0c03",
   "metadata": {
    "tags": []
   },
   "outputs": [],
   "source": [
    "pd.set_option('display.max_columns', None)"
   ]
  },
  {
   "cell_type": "code",
   "execution_count": 4,
   "id": "2706f8fe-ed6b-42a1-9536-26a977832fe7",
   "metadata": {
    "tags": []
   },
   "outputs": [],
   "source": [
    "# Cargamos el scaler que usamos para escalar los datos previamente\n",
    "\n",
    "with open('SO2_x_scaler.pkl', 'rb') as file:\n",
    "    SO2_x_scaler = pickle.load(file)\n",
    "with open('SO2_y_scaler.pkl', 'rb') as file:\n",
    "    SO2_y_scaler = pickle.load(file)\n",
    "    \n",
    "with open('NO2_x_scaler.pkl', 'rb') as file:\n",
    "    NO2_x_scaler = pickle.load(file)\n",
    "with open('NO2_y_scaler.pkl', 'rb') as file:\n",
    "    NO2_y_scaler = pickle.load(file)\n",
    "    \n",
    "with open('O3_x_scaler.pkl', 'rb') as file:\n",
    "    O3_x_scaler = pickle.load(file)\n",
    "with open('O3_y_scaler.pkl', 'rb') as file:\n",
    "    O3_y_scaler = pickle.load(file)\n",
    "    \n",
    "with open('CO_x_scaler.pkl', 'rb') as file:\n",
    "    CO_x_scaler = pickle.load(file)\n",
    "with open('CO_y_scaler.pkl', 'rb') as file:\n",
    "    CO_y_scaler = pickle.load(file)\n",
    "    \n",
    "with open('PM10_x_scaler.pkl', 'rb') as file:\n",
    "    PM10_x_scaler = pickle.load(file)\n",
    "with open('PM10_y_scaler.pkl', 'rb') as file:\n",
    "    PM10_y_scaler = pickle.load(file)\n",
    "    \n",
    "with open('PM2.5_x_scaler.pkl', 'rb') as file:\n",
    "    PM2_5_x_scaler = pickle.load(file)\n",
    "with open('PM2.5_y_scaler.pkl', 'rb') as file:\n",
    "    PM2_5_y_scaler = pickle.load(file)"
   ]
  },
  {
   "cell_type": "code",
   "execution_count": 5,
   "id": "9569f410-2223-4518-8128-9153e23ead7d",
   "metadata": {
    "tags": []
   },
   "outputs": [],
   "source": [
    "df_SO2 = pd.read_csv('../../data/processed/SO2_process.csv')\n",
    "df_NO2 = pd.read_csv('../../data/processed/NO2_process.csv')\n",
    "df_O3 = pd.read_csv('../../data/processed/O3_process.csv')\n",
    "df_CO = pd.read_csv('../../data/processed/CO_process.csv')\n",
    "df_PM10 = pd.read_csv('../../data/processed/PM10_process.csv')\n",
    "df_PM2_5 = pd.read_csv('../../data/processed/PM2_5_process.csv')"
   ]
  },
  {
   "cell_type": "code",
   "execution_count": 6,
   "id": "c1535fab-9685-4f0b-a82b-b59263ed28f7",
   "metadata": {
    "tags": []
   },
   "outputs": [],
   "source": [
    "def x_y_split(df):    \n",
    "    x = df.drop(columns = ['Measurement value', 'Measurement date'], axis=1)  \n",
    "    y = df['Measurement value']  \n",
    "    \n",
    "    # Dividir el conjunto en entrenamiento y prueba\n",
    "    x_train, x_test, y_train, y_test = train_test_split(x, y, test_size=0.2, random_state=33)\n",
    "\n",
    "    return  x_train, x_test, y_train, y_test"
   ]
  },
  {
   "cell_type": "code",
   "execution_count": 7,
   "id": "2de24463-c921-44ee-af97-a75a3810da92",
   "metadata": {
    "tags": []
   },
   "outputs": [],
   "source": [
    "def x_y_def(df):    \n",
    "    x = df.drop(columns = ['Measurement value', 'Measurement date'], axis=1)  \n",
    "    y = df['Measurement value']  \n",
    "\n",
    "    return  x, y"
   ]
  },
  {
   "cell_type": "code",
   "execution_count": 8,
   "id": "3238804f-d5e2-402f-ad93-6862bac7c78e",
   "metadata": {
    "tags": []
   },
   "outputs": [],
   "source": [
    "SO2_x_train, SO2_x_test, SO2_y_train, SO2_y_test = x_y_split(df_SO2)\n",
    "NO2_x_train, NO2_x_test, NO2_y_train, NO2_y_test = x_y_split(df_NO2)\n",
    "O3_x_train, O3_x_test, O3_y_train, O3_y_test = x_y_split(df_O3)\n",
    "COx_train, COx_test, COy_train, COy_test = x_y_split(df_CO)\n",
    "PM10x_train, PM10x_test, PM10y_train, PM10y_test = x_y_split(df_PM10)\n",
    "PM2_x_train, PM2_x_test, PM2_y_train, PM2_y_test = x_y_split(df_PM2_5)"
   ]
  },
  {
   "cell_type": "code",
   "execution_count": 9,
   "id": "fc16df23-2241-4e43-9cf4-2f0c2d8b75c6",
   "metadata": {
    "tags": []
   },
   "outputs": [],
   "source": [
    "SO2_x, SO2_y = x_y_def(df_SO2)\n",
    "NO2_x, NO2_y = x_y_def(df_NO2)\n",
    "O3_x, O3_y = x_y_def(df_O3)\n",
    "CO_x, CO_y = x_y_def(df_CO)\n",
    "PM10_x, PM10_y = x_y_def(df_PM10)\n",
    "PM2_x, PM2_y = x_y_def(df_PM2_5)"
   ]
  },
  {
   "cell_type": "code",
   "execution_count": 10,
   "id": "08ac8b3e-65b2-4271-85df-5356cb0ce391",
   "metadata": {
    "tags": []
   },
   "outputs": [
    {
     "data": {
      "text/html": [
       "<div>\n",
       "<style scoped>\n",
       "    .dataframe tbody tr th:only-of-type {\n",
       "        vertical-align: middle;\n",
       "    }\n",
       "\n",
       "    .dataframe tbody tr th {\n",
       "        vertical-align: top;\n",
       "    }\n",
       "\n",
       "    .dataframe thead th {\n",
       "        text-align: right;\n",
       "    }\n",
       "</style>\n",
       "<table border=\"1\" class=\"dataframe\">\n",
       "  <thead>\n",
       "    <tr style=\"text-align: right;\">\n",
       "      <th></th>\n",
       "      <th>hour</th>\n",
       "      <th>week_of_year</th>\n",
       "      <th>year</th>\n",
       "      <th>lag_1</th>\n",
       "      <th>rolling_mean_4</th>\n",
       "      <th>rolling_mean_8</th>\n",
       "      <th>rolling_mean_12</th>\n",
       "      <th>hourly_season_avg</th>\n",
       "      <th>last_week_hourly_mean</th>\n",
       "      <th>last_month_hourly_mean</th>\n",
       "      <th>sin_season</th>\n",
       "      <th>cos_season</th>\n",
       "      <th>sin_month</th>\n",
       "      <th>cos_month</th>\n",
       "    </tr>\n",
       "  </thead>\n",
       "  <tbody>\n",
       "    <tr>\n",
       "      <th>0</th>\n",
       "      <td>0.0</td>\n",
       "      <td>1.0</td>\n",
       "      <td>0.0</td>\n",
       "      <td>0.333333</td>\n",
       "      <td>0.481481</td>\n",
       "      <td>0.481481</td>\n",
       "      <td>0.504854</td>\n",
       "      <td>0.4985</td>\n",
       "      <td>0.565217</td>\n",
       "      <td>0.558222</td>\n",
       "      <td>0.5</td>\n",
       "      <td>1.0</td>\n",
       "      <td>0.75</td>\n",
       "      <td>0.933013</td>\n",
       "    </tr>\n",
       "  </tbody>\n",
       "</table>\n",
       "</div>"
      ],
      "text/plain": [
       "   hour  week_of_year  year     lag_1  rolling_mean_4  rolling_mean_8  \\\n",
       "0   0.0           1.0   0.0  0.333333        0.481481        0.481481   \n",
       "\n",
       "   rolling_mean_12  hourly_season_avg  last_week_hourly_mean  \\\n",
       "0         0.504854             0.4985               0.565217   \n",
       "\n",
       "   last_month_hourly_mean  sin_season  cos_season  sin_month  cos_month  \n",
       "0                0.558222         0.5         1.0       0.75   0.933013  "
      ]
     },
     "execution_count": 10,
     "metadata": {},
     "output_type": "execute_result"
    }
   ],
   "source": [
    "SO2_x.head(1)"
   ]
  },
  {
   "cell_type": "code",
   "execution_count": 11,
   "id": "d94344d0-276b-4193-a604-97e6ffad2964",
   "metadata": {
    "tags": []
   },
   "outputs": [],
   "source": [
    "modelos = {\n",
    "    \"random_forest\": RandomForestRegressor(),\n",
    "    \"decision_tree\": DecisionTreeRegressor(),\n",
    "    \"gradient_boosting\": GradientBoostingRegressor(),\n",
    "    \"adaboost\": AdaBoostRegressor(),\n",
    "    \"kneighbors\": KNeighborsRegressor(),\n",
    "    \"linear_regressor\": LinearRegression(),\n",
    "    \"svr\": SVR()\n",
    "}"
   ]
  },
  {
   "cell_type": "code",
   "execution_count": 12,
   "id": "cc44edac-410f-4cfd-be84-5925d2cd220e",
   "metadata": {
    "tags": []
   },
   "outputs": [],
   "source": [
    "def best_model(x_train, x_test, y_train, y_test, y_scaler):\n",
    "\n",
    "    resultados = []\n",
    "\n",
    "    for regresor, modelo in modelos.items():\n",
    "        modelo.fit(x_train, y_train)\n",
    "\n",
    "        y_pred = modelo.predict(x_test)\n",
    "        y_pred_unscaled = y_scaler.inverse_transform(np.array(y_pred).reshape(-1, 1)).ravel()\n",
    "        y_test_unscaled = y_scaler.inverse_transform(np.array(y_test).reshape(-1, 1)).ravel()\n",
    "\n",
    "        mae = mean_absolute_error(y_test_unscaled, y_pred_unscaled)\n",
    "        mse = mean_squared_error(y_test_unscaled, y_pred_unscaled)\n",
    "        r2 = r2_score(y_test_unscaled, y_pred_unscaled)\n",
    "\n",
    "        resultados.append({'Nombre_modelo': regresor, 'MAE': mae, 'MSE': mse, 'R2_score': r2})\n",
    "\n",
    "    df_resultados = pd.DataFrame(resultados)\n",
    "    df_resultados = df_resultados.sort_values(by = \"R2_score\", ascending = False)\n",
    "    \n",
    "    return df_resultados"
   ]
  },
  {
   "cell_type": "markdown",
   "id": "3766bb6e-966b-40d1-a255-8974c3c56553",
   "metadata": {
    "tags": []
   },
   "source": [
    "## SO2 MODEL"
   ]
  },
  {
   "cell_type": "markdown",
   "id": "f37e8626-10bf-4463-a153-3410a0ed138b",
   "metadata": {
    "tags": []
   },
   "source": [
    "%%time\n",
    "best_model (SO2_x_train, SO2_x_test, SO2_y_train, SO2_y_test, SO2_y_scaler )"
   ]
  },
  {
   "cell_type": "code",
   "execution_count": 15,
   "id": "2892543d-d412-4927-b2a4-80261e8bb7b5",
   "metadata": {
    "tags": []
   },
   "outputs": [],
   "source": [
    "gradient_best_params = {'criterion': 'friedman_mse', 'learning_rate': 0.05, 'max_depth': 5, 'max_features': None, 'min_samples_leaf': 5, 'min_samples_split': 2, 'n_estimators': 150, 'random_state': 33, 'subsample': 0.8}"
   ]
  },
  {
   "cell_type": "code",
   "execution_count": 115,
   "id": "a6137e84-912f-40f3-92e0-366765a1e341",
   "metadata": {
    "tags": []
   },
   "outputs": [
    {
     "name": "stdout",
     "output_type": "stream",
     "text": [
      "R2 scores: [0.68794796 0.8006754  0.75709536 0.80267986 0.82125585]\n",
      "R2 promedio: 0.7739308833401053\n"
     ]
    }
   ],
   "source": [
    "SO2_model = LinearRegression()\n",
    "\n",
    "# Crear el objeto TimeSeriesSplit (por ejemplo, 5 splits)\n",
    "tscv = TimeSeriesSplit(n_splits=5)\n",
    "\n",
    "scores = cross_val_score(SO2_model, SO2_x, SO2_y, cv=tscv, scoring='r2')\n",
    "print(\"R2 scores:\", scores)\n",
    "print(\"R2 promedio:\", np.mean(scores))"
   ]
  },
  {
   "cell_type": "code",
   "execution_count": 124,
   "id": "62069886-1a31-432d-945d-52b24e048fc1",
   "metadata": {
    "tags": []
   },
   "outputs": [
    {
     "name": "stdout",
     "output_type": "stream",
     "text": [
      "CPU times: total: 15.6 ms\n",
      "Wall time: 7.75 ms\n"
     ]
    },
    {
     "data": {
      "text/html": [
       "<style>#sk-container-id-1 {\n",
       "  /* Definition of color scheme common for light and dark mode */\n",
       "  --sklearn-color-text: black;\n",
       "  --sklearn-color-line: gray;\n",
       "  /* Definition of color scheme for unfitted estimators */\n",
       "  --sklearn-color-unfitted-level-0: #fff5e6;\n",
       "  --sklearn-color-unfitted-level-1: #f6e4d2;\n",
       "  --sklearn-color-unfitted-level-2: #ffe0b3;\n",
       "  --sklearn-color-unfitted-level-3: chocolate;\n",
       "  /* Definition of color scheme for fitted estimators */\n",
       "  --sklearn-color-fitted-level-0: #f0f8ff;\n",
       "  --sklearn-color-fitted-level-1: #d4ebff;\n",
       "  --sklearn-color-fitted-level-2: #b3dbfd;\n",
       "  --sklearn-color-fitted-level-3: cornflowerblue;\n",
       "\n",
       "  /* Specific color for light theme */\n",
       "  --sklearn-color-text-on-default-background: var(--sg-text-color, var(--theme-code-foreground, var(--jp-content-font-color1, black)));\n",
       "  --sklearn-color-background: var(--sg-background-color, var(--theme-background, var(--jp-layout-color0, white)));\n",
       "  --sklearn-color-border-box: var(--sg-text-color, var(--theme-code-foreground, var(--jp-content-font-color1, black)));\n",
       "  --sklearn-color-icon: #696969;\n",
       "\n",
       "  @media (prefers-color-scheme: dark) {\n",
       "    /* Redefinition of color scheme for dark theme */\n",
       "    --sklearn-color-text-on-default-background: var(--sg-text-color, var(--theme-code-foreground, var(--jp-content-font-color1, white)));\n",
       "    --sklearn-color-background: var(--sg-background-color, var(--theme-background, var(--jp-layout-color0, #111)));\n",
       "    --sklearn-color-border-box: var(--sg-text-color, var(--theme-code-foreground, var(--jp-content-font-color1, white)));\n",
       "    --sklearn-color-icon: #878787;\n",
       "  }\n",
       "}\n",
       "\n",
       "#sk-container-id-1 {\n",
       "  color: var(--sklearn-color-text);\n",
       "}\n",
       "\n",
       "#sk-container-id-1 pre {\n",
       "  padding: 0;\n",
       "}\n",
       "\n",
       "#sk-container-id-1 input.sk-hidden--visually {\n",
       "  border: 0;\n",
       "  clip: rect(1px 1px 1px 1px);\n",
       "  clip: rect(1px, 1px, 1px, 1px);\n",
       "  height: 1px;\n",
       "  margin: -1px;\n",
       "  overflow: hidden;\n",
       "  padding: 0;\n",
       "  position: absolute;\n",
       "  width: 1px;\n",
       "}\n",
       "\n",
       "#sk-container-id-1 div.sk-dashed-wrapped {\n",
       "  border: 1px dashed var(--sklearn-color-line);\n",
       "  margin: 0 0.4em 0.5em 0.4em;\n",
       "  box-sizing: border-box;\n",
       "  padding-bottom: 0.4em;\n",
       "  background-color: var(--sklearn-color-background);\n",
       "}\n",
       "\n",
       "#sk-container-id-1 div.sk-container {\n",
       "  /* jupyter's `normalize.less` sets `[hidden] { display: none; }`\n",
       "     but bootstrap.min.css set `[hidden] { display: none !important; }`\n",
       "     so we also need the `!important` here to be able to override the\n",
       "     default hidden behavior on the sphinx rendered scikit-learn.org.\n",
       "     See: https://github.com/scikit-learn/scikit-learn/issues/21755 */\n",
       "  display: inline-block !important;\n",
       "  position: relative;\n",
       "}\n",
       "\n",
       "#sk-container-id-1 div.sk-text-repr-fallback {\n",
       "  display: none;\n",
       "}\n",
       "\n",
       "div.sk-parallel-item,\n",
       "div.sk-serial,\n",
       "div.sk-item {\n",
       "  /* draw centered vertical line to link estimators */\n",
       "  background-image: linear-gradient(var(--sklearn-color-text-on-default-background), var(--sklearn-color-text-on-default-background));\n",
       "  background-size: 2px 100%;\n",
       "  background-repeat: no-repeat;\n",
       "  background-position: center center;\n",
       "}\n",
       "\n",
       "/* Parallel-specific style estimator block */\n",
       "\n",
       "#sk-container-id-1 div.sk-parallel-item::after {\n",
       "  content: \"\";\n",
       "  width: 100%;\n",
       "  border-bottom: 2px solid var(--sklearn-color-text-on-default-background);\n",
       "  flex-grow: 1;\n",
       "}\n",
       "\n",
       "#sk-container-id-1 div.sk-parallel {\n",
       "  display: flex;\n",
       "  align-items: stretch;\n",
       "  justify-content: center;\n",
       "  background-color: var(--sklearn-color-background);\n",
       "  position: relative;\n",
       "}\n",
       "\n",
       "#sk-container-id-1 div.sk-parallel-item {\n",
       "  display: flex;\n",
       "  flex-direction: column;\n",
       "}\n",
       "\n",
       "#sk-container-id-1 div.sk-parallel-item:first-child::after {\n",
       "  align-self: flex-end;\n",
       "  width: 50%;\n",
       "}\n",
       "\n",
       "#sk-container-id-1 div.sk-parallel-item:last-child::after {\n",
       "  align-self: flex-start;\n",
       "  width: 50%;\n",
       "}\n",
       "\n",
       "#sk-container-id-1 div.sk-parallel-item:only-child::after {\n",
       "  width: 0;\n",
       "}\n",
       "\n",
       "/* Serial-specific style estimator block */\n",
       "\n",
       "#sk-container-id-1 div.sk-serial {\n",
       "  display: flex;\n",
       "  flex-direction: column;\n",
       "  align-items: center;\n",
       "  background-color: var(--sklearn-color-background);\n",
       "  padding-right: 1em;\n",
       "  padding-left: 1em;\n",
       "}\n",
       "\n",
       "\n",
       "/* Toggleable style: style used for estimator/Pipeline/ColumnTransformer box that is\n",
       "clickable and can be expanded/collapsed.\n",
       "- Pipeline and ColumnTransformer use this feature and define the default style\n",
       "- Estimators will overwrite some part of the style using the `sk-estimator` class\n",
       "*/\n",
       "\n",
       "/* Pipeline and ColumnTransformer style (default) */\n",
       "\n",
       "#sk-container-id-1 div.sk-toggleable {\n",
       "  /* Default theme specific background. It is overwritten whether we have a\n",
       "  specific estimator or a Pipeline/ColumnTransformer */\n",
       "  background-color: var(--sklearn-color-background);\n",
       "}\n",
       "\n",
       "/* Toggleable label */\n",
       "#sk-container-id-1 label.sk-toggleable__label {\n",
       "  cursor: pointer;\n",
       "  display: block;\n",
       "  width: 100%;\n",
       "  margin-bottom: 0;\n",
       "  padding: 0.5em;\n",
       "  box-sizing: border-box;\n",
       "  text-align: center;\n",
       "}\n",
       "\n",
       "#sk-container-id-1 label.sk-toggleable__label-arrow:before {\n",
       "  /* Arrow on the left of the label */\n",
       "  content: \"▸\";\n",
       "  float: left;\n",
       "  margin-right: 0.25em;\n",
       "  color: var(--sklearn-color-icon);\n",
       "}\n",
       "\n",
       "#sk-container-id-1 label.sk-toggleable__label-arrow:hover:before {\n",
       "  color: var(--sklearn-color-text);\n",
       "}\n",
       "\n",
       "/* Toggleable content - dropdown */\n",
       "\n",
       "#sk-container-id-1 div.sk-toggleable__content {\n",
       "  max-height: 0;\n",
       "  max-width: 0;\n",
       "  overflow: hidden;\n",
       "  text-align: left;\n",
       "  /* unfitted */\n",
       "  background-color: var(--sklearn-color-unfitted-level-0);\n",
       "}\n",
       "\n",
       "#sk-container-id-1 div.sk-toggleable__content.fitted {\n",
       "  /* fitted */\n",
       "  background-color: var(--sklearn-color-fitted-level-0);\n",
       "}\n",
       "\n",
       "#sk-container-id-1 div.sk-toggleable__content pre {\n",
       "  margin: 0.2em;\n",
       "  border-radius: 0.25em;\n",
       "  color: var(--sklearn-color-text);\n",
       "  /* unfitted */\n",
       "  background-color: var(--sklearn-color-unfitted-level-0);\n",
       "}\n",
       "\n",
       "#sk-container-id-1 div.sk-toggleable__content.fitted pre {\n",
       "  /* unfitted */\n",
       "  background-color: var(--sklearn-color-fitted-level-0);\n",
       "}\n",
       "\n",
       "#sk-container-id-1 input.sk-toggleable__control:checked~div.sk-toggleable__content {\n",
       "  /* Expand drop-down */\n",
       "  max-height: 200px;\n",
       "  max-width: 100%;\n",
       "  overflow: auto;\n",
       "}\n",
       "\n",
       "#sk-container-id-1 input.sk-toggleable__control:checked~label.sk-toggleable__label-arrow:before {\n",
       "  content: \"▾\";\n",
       "}\n",
       "\n",
       "/* Pipeline/ColumnTransformer-specific style */\n",
       "\n",
       "#sk-container-id-1 div.sk-label input.sk-toggleable__control:checked~label.sk-toggleable__label {\n",
       "  color: var(--sklearn-color-text);\n",
       "  background-color: var(--sklearn-color-unfitted-level-2);\n",
       "}\n",
       "\n",
       "#sk-container-id-1 div.sk-label.fitted input.sk-toggleable__control:checked~label.sk-toggleable__label {\n",
       "  background-color: var(--sklearn-color-fitted-level-2);\n",
       "}\n",
       "\n",
       "/* Estimator-specific style */\n",
       "\n",
       "/* Colorize estimator box */\n",
       "#sk-container-id-1 div.sk-estimator input.sk-toggleable__control:checked~label.sk-toggleable__label {\n",
       "  /* unfitted */\n",
       "  background-color: var(--sklearn-color-unfitted-level-2);\n",
       "}\n",
       "\n",
       "#sk-container-id-1 div.sk-estimator.fitted input.sk-toggleable__control:checked~label.sk-toggleable__label {\n",
       "  /* fitted */\n",
       "  background-color: var(--sklearn-color-fitted-level-2);\n",
       "}\n",
       "\n",
       "#sk-container-id-1 div.sk-label label.sk-toggleable__label,\n",
       "#sk-container-id-1 div.sk-label label {\n",
       "  /* The background is the default theme color */\n",
       "  color: var(--sklearn-color-text-on-default-background);\n",
       "}\n",
       "\n",
       "/* On hover, darken the color of the background */\n",
       "#sk-container-id-1 div.sk-label:hover label.sk-toggleable__label {\n",
       "  color: var(--sklearn-color-text);\n",
       "  background-color: var(--sklearn-color-unfitted-level-2);\n",
       "}\n",
       "\n",
       "/* Label box, darken color on hover, fitted */\n",
       "#sk-container-id-1 div.sk-label.fitted:hover label.sk-toggleable__label.fitted {\n",
       "  color: var(--sklearn-color-text);\n",
       "  background-color: var(--sklearn-color-fitted-level-2);\n",
       "}\n",
       "\n",
       "/* Estimator label */\n",
       "\n",
       "#sk-container-id-1 div.sk-label label {\n",
       "  font-family: monospace;\n",
       "  font-weight: bold;\n",
       "  display: inline-block;\n",
       "  line-height: 1.2em;\n",
       "}\n",
       "\n",
       "#sk-container-id-1 div.sk-label-container {\n",
       "  text-align: center;\n",
       "}\n",
       "\n",
       "/* Estimator-specific */\n",
       "#sk-container-id-1 div.sk-estimator {\n",
       "  font-family: monospace;\n",
       "  border: 1px dotted var(--sklearn-color-border-box);\n",
       "  border-radius: 0.25em;\n",
       "  box-sizing: border-box;\n",
       "  margin-bottom: 0.5em;\n",
       "  /* unfitted */\n",
       "  background-color: var(--sklearn-color-unfitted-level-0);\n",
       "}\n",
       "\n",
       "#sk-container-id-1 div.sk-estimator.fitted {\n",
       "  /* fitted */\n",
       "  background-color: var(--sklearn-color-fitted-level-0);\n",
       "}\n",
       "\n",
       "/* on hover */\n",
       "#sk-container-id-1 div.sk-estimator:hover {\n",
       "  /* unfitted */\n",
       "  background-color: var(--sklearn-color-unfitted-level-2);\n",
       "}\n",
       "\n",
       "#sk-container-id-1 div.sk-estimator.fitted:hover {\n",
       "  /* fitted */\n",
       "  background-color: var(--sklearn-color-fitted-level-2);\n",
       "}\n",
       "\n",
       "/* Specification for estimator info (e.g. \"i\" and \"?\") */\n",
       "\n",
       "/* Common style for \"i\" and \"?\" */\n",
       "\n",
       ".sk-estimator-doc-link,\n",
       "a:link.sk-estimator-doc-link,\n",
       "a:visited.sk-estimator-doc-link {\n",
       "  float: right;\n",
       "  font-size: smaller;\n",
       "  line-height: 1em;\n",
       "  font-family: monospace;\n",
       "  background-color: var(--sklearn-color-background);\n",
       "  border-radius: 1em;\n",
       "  height: 1em;\n",
       "  width: 1em;\n",
       "  text-decoration: none !important;\n",
       "  margin-left: 1ex;\n",
       "  /* unfitted */\n",
       "  border: var(--sklearn-color-unfitted-level-1) 1pt solid;\n",
       "  color: var(--sklearn-color-unfitted-level-1);\n",
       "}\n",
       "\n",
       ".sk-estimator-doc-link.fitted,\n",
       "a:link.sk-estimator-doc-link.fitted,\n",
       "a:visited.sk-estimator-doc-link.fitted {\n",
       "  /* fitted */\n",
       "  border: var(--sklearn-color-fitted-level-1) 1pt solid;\n",
       "  color: var(--sklearn-color-fitted-level-1);\n",
       "}\n",
       "\n",
       "/* On hover */\n",
       "div.sk-estimator:hover .sk-estimator-doc-link:hover,\n",
       ".sk-estimator-doc-link:hover,\n",
       "div.sk-label-container:hover .sk-estimator-doc-link:hover,\n",
       ".sk-estimator-doc-link:hover {\n",
       "  /* unfitted */\n",
       "  background-color: var(--sklearn-color-unfitted-level-3);\n",
       "  color: var(--sklearn-color-background);\n",
       "  text-decoration: none;\n",
       "}\n",
       "\n",
       "div.sk-estimator.fitted:hover .sk-estimator-doc-link.fitted:hover,\n",
       ".sk-estimator-doc-link.fitted:hover,\n",
       "div.sk-label-container:hover .sk-estimator-doc-link.fitted:hover,\n",
       ".sk-estimator-doc-link.fitted:hover {\n",
       "  /* fitted */\n",
       "  background-color: var(--sklearn-color-fitted-level-3);\n",
       "  color: var(--sklearn-color-background);\n",
       "  text-decoration: none;\n",
       "}\n",
       "\n",
       "/* Span, style for the box shown on hovering the info icon */\n",
       ".sk-estimator-doc-link span {\n",
       "  display: none;\n",
       "  z-index: 9999;\n",
       "  position: relative;\n",
       "  font-weight: normal;\n",
       "  right: .2ex;\n",
       "  padding: .5ex;\n",
       "  margin: .5ex;\n",
       "  width: min-content;\n",
       "  min-width: 20ex;\n",
       "  max-width: 50ex;\n",
       "  color: var(--sklearn-color-text);\n",
       "  box-shadow: 2pt 2pt 4pt #999;\n",
       "  /* unfitted */\n",
       "  background: var(--sklearn-color-unfitted-level-0);\n",
       "  border: .5pt solid var(--sklearn-color-unfitted-level-3);\n",
       "}\n",
       "\n",
       ".sk-estimator-doc-link.fitted span {\n",
       "  /* fitted */\n",
       "  background: var(--sklearn-color-fitted-level-0);\n",
       "  border: var(--sklearn-color-fitted-level-3);\n",
       "}\n",
       "\n",
       ".sk-estimator-doc-link:hover span {\n",
       "  display: block;\n",
       "}\n",
       "\n",
       "/* \"?\"-specific style due to the `<a>` HTML tag */\n",
       "\n",
       "#sk-container-id-1 a.estimator_doc_link {\n",
       "  float: right;\n",
       "  font-size: 1rem;\n",
       "  line-height: 1em;\n",
       "  font-family: monospace;\n",
       "  background-color: var(--sklearn-color-background);\n",
       "  border-radius: 1rem;\n",
       "  height: 1rem;\n",
       "  width: 1rem;\n",
       "  text-decoration: none;\n",
       "  /* unfitted */\n",
       "  color: var(--sklearn-color-unfitted-level-1);\n",
       "  border: var(--sklearn-color-unfitted-level-1) 1pt solid;\n",
       "}\n",
       "\n",
       "#sk-container-id-1 a.estimator_doc_link.fitted {\n",
       "  /* fitted */\n",
       "  border: var(--sklearn-color-fitted-level-1) 1pt solid;\n",
       "  color: var(--sklearn-color-fitted-level-1);\n",
       "}\n",
       "\n",
       "/* On hover */\n",
       "#sk-container-id-1 a.estimator_doc_link:hover {\n",
       "  /* unfitted */\n",
       "  background-color: var(--sklearn-color-unfitted-level-3);\n",
       "  color: var(--sklearn-color-background);\n",
       "  text-decoration: none;\n",
       "}\n",
       "\n",
       "#sk-container-id-1 a.estimator_doc_link.fitted:hover {\n",
       "  /* fitted */\n",
       "  background-color: var(--sklearn-color-fitted-level-3);\n",
       "}\n",
       "</style><div id=\"sk-container-id-1\" class=\"sk-top-container\"><div class=\"sk-text-repr-fallback\"><pre>LinearRegression()</pre><b>In a Jupyter environment, please rerun this cell to show the HTML representation or trust the notebook. <br />On GitHub, the HTML representation is unable to render, please try loading this page with nbviewer.org.</b></div><div class=\"sk-container\" hidden><div class=\"sk-item\"><div class=\"sk-estimator fitted sk-toggleable\"><input class=\"sk-toggleable__control sk-hidden--visually\" id=\"sk-estimator-id-1\" type=\"checkbox\" checked><label for=\"sk-estimator-id-1\" class=\"sk-toggleable__label fitted sk-toggleable__label-arrow fitted\">&nbsp;&nbsp;LinearRegression<a class=\"sk-estimator-doc-link fitted\" rel=\"noreferrer\" target=\"_blank\" href=\"https://scikit-learn.org/1.5/modules/generated/sklearn.linear_model.LinearRegression.html\">?<span>Documentation for LinearRegression</span></a><span class=\"sk-estimator-doc-link fitted\">i<span>Fitted</span></span></label><div class=\"sk-toggleable__content fitted\"><pre>LinearRegression()</pre></div> </div></div></div></div>"
      ],
      "text/plain": [
       "LinearRegression()"
      ]
     },
     "execution_count": 124,
     "metadata": {},
     "output_type": "execute_result"
    }
   ],
   "source": [
    "%%time\n",
    "# Entrenamos el modelo\n",
    "SO2_model.fit(SO2_x, SO2_y)"
   ]
  },
  {
   "cell_type": "code",
   "execution_count": 122,
   "id": "1bc9b7b1-9683-4559-aada-b0956850fbe0",
   "metadata": {
    "tags": []
   },
   "outputs": [
    {
     "ename": "AttributeError",
     "evalue": "'LinearRegression' object has no attribute 'feature_importances_'",
     "output_type": "error",
     "traceback": [
      "\u001b[1;31m---------------------------------------------------------------------------\u001b[0m",
      "\u001b[1;31mAttributeError\u001b[0m                            Traceback (most recent call last)",
      "File \u001b[1;32m<timed exec>:5\u001b[0m\n",
      "\u001b[1;31mAttributeError\u001b[0m: 'LinearRegression' object has no attribute 'feature_importances_'"
     ]
    }
   ],
   "source": [
    "# Calculamos Feature Importance\n",
    "importances = SO2_model.feature_importances_\n",
    "\n",
    "df_importances = pd.DataFrame(data = zip(SO2_x.columns, importances),\n",
    "                              columns = [\"Columnas\", \"Importancia\"])\n",
    "\n",
    "df_importances = df_importances.sort_values(\"Importancia\", ascending = False)\n",
    "\n",
    "plt.figure(figsize = (12, 8))\n",
    "\n",
    "plt.title(\"Feature Importances\")\n",
    "sns.barplot(x = df_importances[\"Importancia\"], y = df_importances[\"Columnas\"], color = \"red\")\n",
    "\n",
    "plt.grid()\n",
    "plt.show()"
   ]
  },
  {
   "cell_type": "code",
   "execution_count": 18,
   "id": "4f1ae638-385c-4619-b48d-7f2fe07cea52",
   "metadata": {},
   "outputs": [],
   "source": [
    "with open(\"../../models/SO2_model_task_2.pkl\", \"bw\") as file:\n",
    "    pickle.dump(SO2_model, file)"
   ]
  },
  {
   "cell_type": "markdown",
   "id": "e9714c97-003b-4fcb-b2f6-afbaedae6b9a",
   "metadata": {
    "jp-MarkdownHeadingCollapsed": true,
    "tags": []
   },
   "source": [
    "## NO2 MODEL"
   ]
  },
  {
   "cell_type": "markdown",
   "id": "5c268993-207c-4b9f-824f-5f6a97dbea46",
   "metadata": {
    "tags": []
   },
   "source": [
    "%%time\n",
    "best_model (NO2_x_train, NO2_x_test, NO2_y_train, NO2_y_test, NO2_y_scaler )"
   ]
  },
  {
   "cell_type": "code",
   "execution_count": 21,
   "id": "e41e42e5-3083-4b4a-be5a-a0a39a09f603",
   "metadata": {
    "tags": []
   },
   "outputs": [],
   "source": [
    "randomforest_best_params = {'criterion': 'squared_error', 'max_depth': 10, 'max_features': None, 'min_samples_leaf': 5, 'min_samples_split': 2, 'n_estimators': 150, 'random_state': 33}"
   ]
  },
  {
   "cell_type": "code",
   "execution_count": 22,
   "id": "31c176fb-67da-4916-b00d-6ee5b376161d",
   "metadata": {
    "tags": []
   },
   "outputs": [
    {
     "name": "stdout",
     "output_type": "stream",
     "text": [
      "R2 scores: [0.8258332  0.90929684 0.87336526 0.91952373 0.90827104]\n",
      "R2 promedio: 0.8872580138405194\n"
     ]
    }
   ],
   "source": [
    "NO2_model = RandomForestRegressor(**randomforest_best_params)\n",
    "\n",
    "# Crear el objeto TimeSeriesSplit (por ejemplo, 5 splits)\n",
    "tscv = TimeSeriesSplit(n_splits=5)\n",
    "\n",
    "scores = cross_val_score(NO2_model, NO2_x, NO2_y, cv=tscv, scoring='r2')\n",
    "print(\"R2 scores:\", scores)\n",
    "print(\"R2 promedio:\", np.mean(scores))"
   ]
  },
  {
   "cell_type": "code",
   "execution_count": 23,
   "id": "94b5d0f6-caee-411e-9e03-a3512363a178",
   "metadata": {
    "tags": []
   },
   "outputs": [
    {
     "data": {
      "image/png": "[encoded data removed]",
      "text/plain": [
       "<Figure size 1200x800 with 1 Axes>"
      ]
     },
     "metadata": {},
     "output_type": "display_data"
    },
    {
     "name": "stdout",
     "output_type": "stream",
     "text": [
      "CPU times: total: 10.4 s\n",
      "Wall time: 10.5 s\n"
     ]
    }
   ],
   "source": [
    "%%time\n",
    "# Entrenamos el modelo\n",
    "NO2_model.fit(NO2_x, NO2_y)\n",
    "\n",
    "# Calculamos Feature Importance\n",
    "importances = NO2_model.feature_importances_\n",
    "\n",
    "df_importances = pd.DataFrame(data = zip(NO2_x.columns, importances),\n",
    "                              columns = [\"Columnas\", \"Importancia\"])\n",
    "\n",
    "df_importances = df_importances.sort_values(\"Importancia\", ascending = False)\n",
    "\n",
    "plt.figure(figsize = (12, 8))\n",
    "\n",
    "plt.title(\"Feature Importances\")\n",
    "sns.barplot(x = df_importances[\"Importancia\"], y = df_importances[\"Columnas\"], color = \"red\")\n",
    "\n",
    "plt.grid()\n",
    "plt.show()"
   ]
  },
  {
   "cell_type": "code",
   "execution_count": 24,
   "id": "76de3fa0-d9fd-428a-95b1-065761962562",
   "metadata": {},
   "outputs": [],
   "source": [
    "with open(\"../../models/NO2_model_task_2.pkl\", \"bw\") as file:\n",
    "    pickle.dump(NO2_model, file)"
   ]
  },
  {
   "cell_type": "markdown",
   "id": "305f8103-9edc-4ecb-ad13-e51dd34842d0",
   "metadata": {
    "jp-MarkdownHeadingCollapsed": true,
    "tags": []
   },
   "source": [
    "## 03 MODEL"
   ]
  },
  {
   "cell_type": "markdown",
   "id": "f5c66ca3-1442-4b66-873a-b25a2ab66485",
   "metadata": {
    "tags": []
   },
   "source": [
    "%%time\n",
    "best_model (O3_x_train, O3_x_test, O3_y_train, O3_y_test,O3_y_scaler  )"
   ]
  },
  {
   "cell_type": "code",
   "execution_count": 27,
   "id": "7f31a198-290c-4540-82d6-19d84e4b6a1e",
   "metadata": {
    "tags": []
   },
   "outputs": [
    {
     "name": "stdout",
     "output_type": "stream",
     "text": [
      "R2 scores: [0.87669007 0.90964455 0.90527727 0.89067368 0.91724899]\n",
      "R2 promedio: 0.8999069136169231\n"
     ]
    }
   ],
   "source": [
    "O3_model = RandomForestRegressor(**randomforest_best_params)\n",
    "\n",
    "# Crear el objeto TimeSeriesSplit (por ejemplo, 5 splits)\n",
    "tscv = TimeSeriesSplit(n_splits=5)\n",
    "\n",
    "scores = cross_val_score(O3_model, O3_x, O3_y, cv=tscv, scoring='r2')\n",
    "print(\"R2 scores:\", scores)\n",
    "print(\"R2 promedio:\", np.mean(scores))"
   ]
  },
  {
   "cell_type": "code",
   "execution_count": 28,
   "id": "97312144-b28d-4c20-a6da-1c60114aba7b",
   "metadata": {
    "tags": []
   },
   "outputs": [
    {
     "data": {
      "image/png": "[encoded data removed]",
      "text/plain": [
       "<Figure size 1200x800 with 1 Axes>"
      ]
     },
     "metadata": {},
     "output_type": "display_data"
    },
    {
     "name": "stdout",
     "output_type": "stream",
     "text": [
      "CPU times: total: 10.6 s\n",
      "Wall time: 10.7 s\n"
     ]
    }
   ],
   "source": [
    "%%time\n",
    "# Entrenamos el modelo\n",
    "O3_model.fit(O3_x, O3_y)\n",
    "\n",
    "# Calculamos Feature Importance\n",
    "importances = O3_model.feature_importances_\n",
    "\n",
    "df_importances = pd.DataFrame(data = zip(O3_x.columns, importances),\n",
    "                              columns = [\"Columnas\", \"Importancia\"])\n",
    "\n",
    "df_importances = df_importances.sort_values(\"Importancia\", ascending = False)\n",
    "\n",
    "plt.figure(figsize = (12, 8))\n",
    "\n",
    "plt.title(\"Feature Importances\")\n",
    "sns.barplot(x = df_importances[\"Importancia\"], y = df_importances[\"Columnas\"], color = \"red\")\n",
    "\n",
    "plt.grid()\n",
    "plt.show()"
   ]
  },
  {
   "cell_type": "code",
   "execution_count": 29,
   "id": "17ddd91f-63f2-418e-9470-a3a896df7216",
   "metadata": {},
   "outputs": [],
   "source": [
    "with open(\"../../models/O3_model_task_2.pkl\", \"bw\") as file:\n",
    "    pickle.dump(O3_model, file)"
   ]
  },
  {
   "cell_type": "markdown",
   "id": "13e19af6-e604-40ca-9cfd-eb68ada16198",
   "metadata": {
    "jp-MarkdownHeadingCollapsed": true,
    "tags": []
   },
   "source": [
    "## CO MODEL"
   ]
  },
  {
   "cell_type": "markdown",
   "id": "95753f88-cdc4-463f-8867-f50d0149d73a",
   "metadata": {
    "tags": []
   },
   "source": [
    "%%time\n",
    "best_model (COx_train, COx_test, COy_train, COy_test, CO_y_scaler )"
   ]
  },
  {
   "cell_type": "code",
   "execution_count": 32,
   "id": "5b7c315a-c41a-45e4-a78b-bcacff41c2be",
   "metadata": {
    "tags": []
   },
   "outputs": [
    {
     "name": "stdout",
     "output_type": "stream",
     "text": [
      "R2 scores: [0.88872985 0.87740124 0.84076105 0.86744734 0.81299265]\n",
      "R2 promedio: 0.8574664237146635\n"
     ]
    }
   ],
   "source": [
    "CO_model = RandomForestRegressor(**randomforest_best_params)\n",
    "\n",
    "# Crear el objeto TimeSeriesSplit (por ejemplo, 5 splits)\n",
    "tscv = TimeSeriesSplit(n_splits=5)\n",
    "\n",
    "scores = cross_val_score(CO_model, CO_x, CO_y, cv=tscv, scoring='r2')\n",
    "print(\"R2 scores:\", scores)\n",
    "print(\"R2 promedio:\", np.mean(scores))"
   ]
  },
  {
   "cell_type": "code",
   "execution_count": 33,
   "id": "7b009ab5-acd8-475f-aaca-25e1f2ea2ab6",
   "metadata": {
    "tags": []
   },
   "outputs": [
    {
     "data": {
      "image/png": "[encoded data removed]",
      "text/plain": [
       "<Figure size 1200x800 with 1 Axes>"
      ]
     },
     "metadata": {},
     "output_type": "display_data"
    },
    {
     "name": "stdout",
     "output_type": "stream",
     "text": [
      "CPU times: total: 8.16 s\n",
      "Wall time: 8.16 s\n"
     ]
    }
   ],
   "source": [
    "%%time\n",
    "\n",
    "# Entrenamos el modelo\n",
    "CO_model.fit(CO_x, CO_y)\n",
    "\n",
    "# Calculamos Feature Importance\n",
    "importances = CO_model.feature_importances_\n",
    "\n",
    "df_importances = pd.DataFrame(data = zip(CO_x.columns, importances),\n",
    "                              columns = [\"Columnas\", \"Importancia\"])\n",
    "\n",
    "df_importances = df_importances.sort_values(\"Importancia\", ascending = False)\n",
    "\n",
    "plt.figure(figsize = (12, 8))\n",
    "\n",
    "plt.title(\"Feature Importances\")\n",
    "sns.barplot(x = df_importances[\"Importancia\"], y = df_importances[\"Columnas\"], color = \"red\")\n",
    "\n",
    "plt.grid()\n",
    "plt.show()"
   ]
  },
  {
   "cell_type": "code",
   "execution_count": 34,
   "id": "f0734063-6967-484e-a523-edcbefde59ee",
   "metadata": {},
   "outputs": [],
   "source": [
    "with open(\"../../models/CO_model_task_2.pkl\", \"bw\") as file:\n",
    "    pickle.dump(CO_model, file)"
   ]
  },
  {
   "cell_type": "markdown",
   "id": "c5ad15e4-2006-4b80-a18d-e3b98a9327aa",
   "metadata": {
    "jp-MarkdownHeadingCollapsed": true,
    "tags": []
   },
   "source": [
    "## PM10 MODEL"
   ]
  },
  {
   "cell_type": "markdown",
   "id": "2a0f3e4c-08ec-4fcd-910b-6e2ff98df1eb",
   "metadata": {
    "tags": []
   },
   "source": [
    "%%time\n",
    "best_model (PM10x_train, PM10x_test, PM10y_train, PM10y_test, PM10_y_scaler  )"
   ]
  },
  {
   "cell_type": "code",
   "execution_count": 37,
   "id": "b66a3864-d141-4627-b7c5-f1e45effdb96",
   "metadata": {
    "tags": []
   },
   "outputs": [
    {
     "name": "stdout",
     "output_type": "stream",
     "text": [
      "R2 scores: [0.88119649 0.89907926 0.92376998 0.92370519 0.93210101]\n",
      "R2 promedio: 0.9119703844706006\n"
     ]
    }
   ],
   "source": [
    "PM10_model = GradientBoostingRegressor(**gradient_best_params)\n",
    "\n",
    "# Crear el objeto TimeSeriesSplit (por ejemplo, 5 splits)\n",
    "tscv = TimeSeriesSplit(n_splits=5)\n",
    "\n",
    "scores = cross_val_score(PM10_model, PM10_x, PM10_y, cv=tscv, scoring='r2')\n",
    "print(\"R2 scores:\", scores)\n",
    "print(\"R2 promedio:\", np.mean(scores))"
   ]
  },
  {
   "cell_type": "code",
   "execution_count": 38,
   "id": "bc6deb48-39ec-4ccc-b924-f76ddcf45f0a",
   "metadata": {
    "tags": []
   },
   "outputs": [
    {
     "data": {
      "image/png": "[encoded data removed]",
      "text/plain": [
       "<Figure size 1200x800 with 1 Axes>"
      ]
     },
     "metadata": {},
     "output_type": "display_data"
    },
    {
     "name": "stdout",
     "output_type": "stream",
     "text": [
      "CPU times: total: 7.08 s\n",
      "Wall time: 7.17 s\n"
     ]
    }
   ],
   "source": [
    "%%time\n",
    "\n",
    "# Entrenamos el modelo\n",
    "PM10_model.fit(PM10_x, PM10_y)\n",
    "\n",
    "# Calculamos Feature Importance\n",
    "importances = PM10_model.feature_importances_\n",
    "\n",
    "df_importances = pd.DataFrame(data = zip(PM10_x.columns, importances),\n",
    "                              columns = [\"Columnas\", \"Importancia\"])\n",
    "\n",
    "df_importances = df_importances.sort_values(\"Importancia\", ascending = False)\n",
    "\n",
    "plt.figure(figsize = (12, 8))\n",
    "\n",
    "plt.title(\"Feature Importances\")\n",
    "sns.barplot(x = df_importances[\"Importancia\"], y = df_importances[\"Columnas\"], color = \"red\")\n",
    "\n",
    "plt.grid()\n",
    "plt.show()"
   ]
  },
  {
   "cell_type": "code",
   "execution_count": 39,
   "id": "a70db526-c4e0-47ee-a686-e32bc91c03d8",
   "metadata": {},
   "outputs": [],
   "source": [
    "with open(\"../../models/PM10_model_task_2.pkl\", \"bw\") as file:\n",
    "    pickle.dump(PM10_model, file)"
   ]
  },
  {
   "cell_type": "markdown",
   "id": "52f6f655-b5fb-45c4-bf0e-31d89bb05002",
   "metadata": {
    "jp-MarkdownHeadingCollapsed": true,
    "tags": []
   },
   "source": [
    "## PM2.5 MODEL"
   ]
  },
  {
   "cell_type": "markdown",
   "id": "00db9b44-ea08-41a7-952d-c6e4b59c7548",
   "metadata": {
    "tags": []
   },
   "source": [
    "%%time\n",
    "best_model (PM2_x_train, PM2_x_test, PM2_y_train, PM2_y_test, PM2_5_y_scaler )"
   ]
  },
  {
   "cell_type": "code",
   "execution_count": 42,
   "id": "3cfb6437-9bc1-4cf9-be50-9218c050176b",
   "metadata": {
    "tags": []
   },
   "outputs": [
    {
     "name": "stdout",
     "output_type": "stream",
     "text": [
      "R2 scores: [0.87652996 0.89474657 0.91644919 0.93018758 0.92340536]\n",
      "R2 promedio: 0.9082637303405721\n"
     ]
    }
   ],
   "source": [
    "PM2_model = RandomForestRegressor(**randomforest_best_params)\n",
    "\n",
    "# Crear el objeto TimeSeriesSplit (por ejemplo, 5 splits)\n",
    "tscv = TimeSeriesSplit(n_splits=5)\n",
    "\n",
    "scores = cross_val_score(PM2_model, PM2_x, PM2_y, cv=tscv, scoring='r2')\n",
    "print(\"R2 scores:\", scores)\n",
    "print(\"R2 promedio:\", np.mean(scores))"
   ]
  },
  {
   "cell_type": "code",
   "execution_count": 43,
   "id": "212a8a29-c1be-430e-916c-d3cb87ee7123",
   "metadata": {
    "tags": []
   },
   "outputs": [
    {
     "data": {
      "image/png": "[encoded data removed]",
      "text/plain": [
       "<Figure size 1200x800 with 1 Axes>"
      ]
     },
     "metadata": {},
     "output_type": "display_data"
    },
    {
     "name": "stdout",
     "output_type": "stream",
     "text": [
      "CPU times: total: 11.9 s\n",
      "Wall time: 12.1 s\n"
     ]
    }
   ],
   "source": [
    "%%time\n",
    "\n",
    "# Entrenamos el modelo\n",
    "PM2_model.fit(PM2_x, PM2_y)\n",
    "\n",
    "# Calculamos Feature Importance\n",
    "importances = PM2_model.feature_importances_\n",
    "\n",
    "df_importances = pd.DataFrame(data = zip(PM2_x.columns, importances),\n",
    "                              columns = [\"Columnas\", \"Importancia\"])\n",
    "\n",
    "df_importances = df_importances.sort_values(\"Importancia\", ascending = False)\n",
    "\n",
    "plt.figure(figsize = (12, 8))\n",
    "\n",
    "plt.title(\"Feature Importances\")\n",
    "sns.barplot(x = df_importances[\"Importancia\"], y = df_importances[\"Columnas\"], color = \"red\")\n",
    "\n",
    "plt.grid()\n",
    "plt.show()"
   ]
  },
  {
   "cell_type": "code",
   "execution_count": 44,
   "id": "033dcf4e-9f0a-44a5-993a-155eb768995a",
   "metadata": {},
   "outputs": [],
   "source": [
    "with open(\"../../models/PM2_model_task_2.pkl\", \"bw\") as file:\n",
    "    pickle.dump(PM2_model, file)"
   ]
  },
  {
   "cell_type": "markdown",
   "id": "4ca51450-5be2-4fcb-b80d-1cb865441baf",
   "metadata": {
    "jp-MarkdownHeadingCollapsed": true,
    "tags": []
   },
   "source": [
    "## Gridsearch"
   ]
  },
  {
   "cell_type": "raw",
   "id": "64eca845-4c47-40c7-a67c-df147062f0b9",
   "metadata": {
    "tags": []
   },
   "source": [
    "%%time\n",
    "SO2_model = GradientBoostingRegressor()\n",
    "\n",
    "scorers = { 'MAE': make_scorer(mean_absolute_error, greater_is_better=False), 'MSE': make_scorer(mean_squared_error, greater_is_better=False), 'R2': make_scorer(r2_score)}\n",
    "\n",
    "params = {\n",
    "    \"n_estimators\": [100, 150, 200, 300],\n",
    "    \"learning_rate\": [0.1, 0.05, 0.01],\n",
    "    \"max_depth\": [3, 5, 7, 9],\n",
    "    \"min_samples_split\": [2, 5, 10],\n",
    "    \"min_samples_leaf\": [1, 3, 5],\n",
    "    \"subsample\": [0.8, 0.9, 1.0],\n",
    "    \"max_features\": [None, \"sqrt\", \"log2\"],\n",
    "    \"criterion\": [\"friedman_mse\", \"squared_error\", \"absolute_error\"],\n",
    "    \"random_state\": [33]\n",
    "}\n",
    "\n",
    "grid_solver = GridSearchCV(estimator = SO2_model , param_grid = params , scoring = scorers , cv = 5 , refit = \"R2\", n_jobs = -1 , verbose = 3)\n",
    "\n",
    "model_result = grid_solver.fit(SO2_x, SO2_y)\n",
    "\n",
    "print(model_result.cv_results_[\"mean_test_MAE\"].mean()) \n",
    "print(model_result.cv_results_[\"mean_test_MSE\"].mean()) \n",
    "print(model_result.cv_results_[\"mean_test_R2\"].mean())\n",
    "\n",
    "print(\"*\" * 100)\n",
    "\n",
    "print(model_result.best_score_) \n",
    "print(model_result.best_params_)"
   ]
  },
  {
   "cell_type": "raw",
   "id": "a2b51e4f-c8eb-4446-ab8b-d8e51e283011",
   "metadata": {
    "tags": []
   },
   "source": [
    "%%time\n",
    "NO2_model = RandomForestRegressor()\n",
    "\n",
    "scorers = { 'MAE': make_scorer(mean_absolute_error, greater_is_better=False), 'MSE': make_scorer(mean_squared_error, greater_is_better=False), 'R2': make_scorer(r2_score)}\n",
    "\n",
    "params = params = {\n",
    "    \"n_estimators\": [150, 200, 250],\n",
    "    \"max_depth\": [10, 15, 20],\n",
    "    \"criterion\": [\"squared_error\", \"absolute_error\"],\n",
    "    \"min_samples_split\": [2, 5, 10],\n",
    "    \"min_samples_leaf\": [1, 3, 5],\n",
    "    \"max_features\": [None, \"sqrt\", \"log2\"],\n",
    "    \"random_state\": [33]\n",
    "}\n",
    "\n",
    "grid_solver = GridSearchCV(estimator = SO2_model , param_grid = params , scoring = scorers , cv = 5 , refit = \"R2\", n_jobs = -1 , verbose = 3)\n",
    "\n",
    "model_result = grid_solver.fit(NO2_x, NO2_y)\n",
    "\n",
    "print(model_result.cv_results_[\"mean_test_MAE\"].mean()) \n",
    "print(model_result.cv_results_[\"mean_test_MSE\"].mean()) \n",
    "print(model_result.cv_results_[\"mean_test_R2\"].mean())\n",
    "\n",
    "print(\"*\" * 100)\n",
    "\n",
    "print(model_result.best_score_) \n",
    "print(model_result.best_params_)"
   ]
  },
  {
   "cell_type": "markdown",
   "id": "899ac9e7-d047-4022-935b-51e79e111ea5",
   "metadata": {
    "tags": []
   },
   "source": [
    "## Predictions"
   ]
  },
  {
   "cell_type": "code",
   "execution_count": 47,
   "id": "da1ab14f-301c-4b83-be02-db87e3b4efe9",
   "metadata": {
    "tags": []
   },
   "outputs": [],
   "source": [
    "def descaling_df(df, x_scaler, y_scaler):\n",
    "    \"\"\"\n",
    "    Desescala un DataFrame que fue escalado previamente.\n",
    "    \n",
    "    Parámetros:\n",
    "      df: DataFrame escalado. Se asume que tiene la columna \"Measurement value\" y el resto son features.\n",
    "      x_scaler: El escalador (MinMaxScaler, StandardScaler, etc.) que se usó para las features.\n",
    "      y_scaler: Escalador usado para la variable objetivo (\"Measurement value\").\n",
    "    \n",
    "    Retorna:\n",
    "      df_copy: DataFrame con las features y \"Measurement value\" desescaladas a su escala original.\n",
    "    \"\"\"\n",
    "    dates = df[\"Measurement date\"].reset_index(drop=True)\n",
    "    x = df.drop(columns=[\"Measurement date\", \"Measurement value\"])\n",
    "    y = df['Measurement value']\n",
    "    \n",
    "    # Desescalar las features\n",
    "    x_descaled = pd.DataFrame(x_scaler.inverse_transform(x), columns=x.columns)\n",
    "    x_descaled['year'] = x_descaled['year'].round().astype(int)\n",
    "    x_descaled['hour'] = x_descaled['hour'].round().astype(int)\n",
    "    x_descaled['week_of_year'] = x_descaled['week_of_year'].round().astype(int)\n",
    "    \n",
    "    # Desescalar el target\n",
    "    y_descaled = y_scaler.inverse_transform(y.values.reshape(-1,1)).ravel()\n",
    "    y_descaled = pd.Series(y_descaled, name='Measurement value')\n",
    "    \n",
    "    # Concatenar features y target\n",
    "    df_copy = pd.concat([dates, x_descaled, y_descaled], axis=1)\n",
    "    \n",
    "    return df_copy\n",
    "\n",
    "# Aplicar la función para cada DataFrame histórico:\n",
    "df_SO2_descaled = descaling_df(df_SO2, SO2_x_scaler, SO2_y_scaler)\n",
    "df_NO2_descaled = descaling_df(df_NO2, NO2_x_scaler, NO2_y_scaler)\n",
    "df_O3_descaled = descaling_df(df_O3, O3_x_scaler, O3_y_scaler)\n",
    "df_CO_descaled = descaling_df(df_CO, CO_x_scaler, CO_y_scaler)\n",
    "df_PM10_descaled = descaling_df(df_PM10, PM10_x_scaler, PM10_y_scaler)\n",
    "df_PM2_5_descaled = descaling_df(df_PM2_5, PM2_5_x_scaler, PM2_5_y_scaler)"
   ]
  },
  {
   "cell_type": "code",
   "execution_count": null,
   "id": "402e40b2-941e-4b5f-bd1c-276768970aa8",
   "metadata": {},
   "outputs": [],
   "source": []
  },
  {
   "cell_type": "code",
   "execution_count": 48,
   "id": "f2c54034-0000-47bf-8dcf-4f96541d3bcb",
   "metadata": {
    "tags": []
   },
   "outputs": [],
   "source": [
    "def assign_season(month):\n",
    "    # Asigna la temporada numérica: 1 (invierno), 2 (primavera), 3 (verano), 4 (otoño)\n",
    "    if month in [12, 1, 2]:\n",
    "        return 1\n",
    "    elif month in [3, 4, 5]:\n",
    "        return 2\n",
    "    elif month in [6, 7, 8]:\n",
    "        return 3\n",
    "    elif month in [9, 10, 11]:\n",
    "        return 4\n",
    "\n",
    "def prepare_initial_values(df):\n",
    "    \"\"\"\n",
    "    A partir del dataset histórico (df), calcula:\n",
    "      - initial_history: Lista con los últimos 12 valores de 'Measurement value'.\n",
    "      - initial_last_week: Valor inicial para last_week_hourly_mean, obtenido como el promedio de 'Measurement value'\n",
    "                           de la hora correspondiente en la semana anterior al último registro.\n",
    "      - static_hourly_season_avg: Promedio de 'Measurement value' para la combinación (season, hour) del último registro.\n",
    "    \n",
    "    Se asume que df contiene al menos las columnas \"Measurement date\" y \"Measurement value\". Si existe la columna\n",
    "    \"season\" se usará para calcular static_hourly_season_avg; en caso contrario, se asigna la temporada en función del mes.\n",
    "    \"\"\"\n",
    "    # Asegurarse de que la columna de fecha esté en formato datetime\n",
    "    df[\"Measurement date\"] = pd.to_datetime(df[\"Measurement date\"])\n",
    "    \n",
    "    # Ordenar cronológicamente\n",
    "    df_sorted = df.sort_values(\"Measurement date\")\n",
    "    \n",
    "    # Extraer los últimos 12 valores de \"Measurement value\"\n",
    "    initial_history = df_sorted[\"Measurement value\"].tail(12).tolist()\n",
    "    \n",
    "    # Tomar la fecha y la hora del último registro\n",
    "    last_date = df_sorted[\"Measurement date\"].iloc[-1]\n",
    "    last_hour = last_date.hour\n",
    "    last_year = last_date.year\n",
    "    \n",
    "    # Calcular initial_last_week:\n",
    "    # Filtrar registros de la semana anterior al último registro\n",
    "    week_start = last_date - pd.Timedelta(days=7)\n",
    "    df_last_week = df_sorted[df_sorted[\"Measurement date\"] >= week_start]\n",
    "    # Calcular el promedio de \"Measurement value\" por hora en esa semana\n",
    "    hourly_week_avg = df_last_week.groupby(df_last_week[\"Measurement date\"].dt.hour)[\"Measurement value\"].mean()\n",
    "    # Usar el promedio correspondiente a la hora del último registro\n",
    "    initial_last_week = hourly_week_avg.loc[last_hour] if last_hour in hourly_week_avg.index else None\n",
    "    \n",
    "    # Calcular static_hourly_season_avg:\n",
    "    last_season = assign_season(last_date.month)\n",
    "    \n",
    "    # Filtrar registros que correspondan a la misma season    \n",
    "    df_season = df_sorted.copy()\n",
    "    df_season[\"season\"] = df_season[\"Measurement date\"].dt.month.apply(assign_season)\n",
    "    df_season = df_season[df_season[\"season\"] == last_season]\n",
    "    df_season = df_season[(df_season[\"season\"] == last_season) & (df_season[\"Measurement date\"].dt.year == last_year)]\n",
    "    \n",
    "    # Calcular el promedio por hora en este subconjunto y extraer el de la hora del último registro\n",
    "    static_hourly_season_avg = df_season.groupby(df_season[\"Measurement date\"].dt.hour)[\"Measurement value\"].mean().loc[last_hour]\n",
    "    \n",
    "    # Calcular last_month_hourly_mean de forma estática:\n",
    "    # Determinar el mes anterior\n",
    "    \n",
    "    if last_date.month == 1:\n",
    "        previous_month = 12\n",
    "        previous_year = last_year - 1\n",
    "    else:\n",
    "        previous_month = last_date.month - 1\n",
    "        previous_year = last_year\n",
    "        \n",
    "    # Filtrar registros del mes anterior\n",
    "    df_last_month = df_sorted[(df_sorted[\"Measurement date\"].dt.month == previous_month) & \n",
    "                              (df_sorted[\"Measurement date\"].dt.year == previous_year)]\n",
    "    \n",
    "    # Calcular el promedio por hora y extraer el correspondiente a la hora del último registro\n",
    "    last_month_hourly_mean = df_last_month.groupby(df_last_month[\"Measurement date\"].dt.hour)[\"Measurement value\"].mean().loc[last_hour]\n",
    "    \n",
    "    return initial_history, initial_last_week, static_hourly_season_avg, last_month_hourly_mean"
   ]
  },
  {
   "cell_type": "code",
   "execution_count": 49,
   "id": "ebb94479-5a80-4f3c-9c81-fe9574fff407",
   "metadata": {
    "tags": []
   },
   "outputs": [],
   "source": [
    "def iterative_predict_for_period_from_dataset(start_date, end_date, model, feature_scaler, target_scaler,\n",
    "                                                freq, station, historical_df):\n",
    "    \"\"\"\n",
    "    Realiza un forecast iterativo para el período dado utilizando el dataset histórico para\n",
    "    calcular las condiciones iniciales. Durante la iteración se actualizan recursivamente:\n",
    "      - lag_1, rolling_mean_4, rolling_mean_8, rolling_mean_12 (calculados a partir de la \"historia\")\n",
    "      - last_week_hourly_mean, que se actualiza con cada predicción.\n",
    "    \n",
    "    Los demás features (derivados directamente de la fecha) se calculan en cada iteración.\n",
    "    \n",
    "    Parámetros:\n",
    "      start_date, end_date: rango de predicción (str o datetime)\n",
    "      model: modelo entrenado\n",
    "      feature_scaler: scaler usado en el entrenamiento para las features\n",
    "      target_scaler: scaler usado en el entrenamiento para la variable objetivo\n",
    "      freq: frecuencia (por ejemplo, 'H')\n",
    "      station: código de la estación (para la llave del dict final)\n",
    "      historical_df: dataset histórico (DataFrame) con las columnas \"Measurement date\" y \"Measurement value\"\n",
    "                     y, de preferencia, \"season\".\n",
    "    \n",
    "    Retorna:\n",
    "      Un diccionario con la estructura: { \"<station>\": { \"YYYY-MM-DD HH:MM:SS\": predicción, ... } }\n",
    "    \"\"\"\n",
    "    # Preparar condiciones iniciales a partir del dataset\n",
    "    initial_history, initial_last_week, static_hourly_season_avg, last_month_hourly_mean = prepare_initial_values(historical_df)\n",
    "    \n",
    "    dates = pd.date_range(start=start_date, end=end_date, freq=freq)\n",
    "    predictions = {}\n",
    "    \n",
    "    # Inicializar la historia y last_week_hourly_mean\n",
    "    history = initial_history.copy()\n",
    "    last_week_value = initial_last_week\n",
    "    \n",
    "    for dt in dates:\n",
    "        year = dt.year\n",
    "        month = dt.month\n",
    "        hour = dt.hour\n",
    "        week_of_year = int(dt.isocalendar().week)\n",
    "        \n",
    "        # Calcular las features recursivas a partir de la historia\n",
    "        lag_1 = history[-1]\n",
    "        rolling_mean_4 = np.mean(history[-4:]) if len(history) >= 4 else lag_1\n",
    "        rolling_mean_8 = np.mean(history[-8:]) if len(history) >= 8 else lag_1\n",
    "        rolling_mean_12 = np.mean(history[-12:]) if len(history) >= 12 else lag_1\n",
    "        \n",
    "        # Features derivadas de la fecha\n",
    "        season = assign_season(month)\n",
    "        sin_season = np.sin(2 * np.pi * (season - 1) / 4)\n",
    "        cos_season = np.cos(2 * np.pi * (season - 1) / 4)\n",
    "        sin_month = np.sin(2 * np.pi * (month - 1) / 12)\n",
    "        cos_month = np.cos(2 * np.pi * (month - 1) / 12)\n",
    "        \n",
    "        # Construir el vector de features. Usamos static_hourly_season_avg obtenido del histórico.\n",
    "        data = {\n",
    "            \"hour\": hour,\n",
    "            \"week_of_year\": week_of_year,\n",
    "            \"year\": year,\n",
    "            \"lag_1\": lag_1,\n",
    "            \"rolling_mean_4\": rolling_mean_4,\n",
    "            \"rolling_mean_8\": rolling_mean_8,\n",
    "            \"rolling_mean_12\": rolling_mean_12,\n",
    "            \"hourly_season_avg\": static_hourly_season_avg,\n",
    "            \"last_week_hourly_mean\": last_week_value,\n",
    "            \"last_month_hourly_mean\" : last_month_hourly_mean,\n",
    "            \"sin_season\": sin_season,\n",
    "            \"cos_season\": cos_season,\n",
    "            \"sin_month\": sin_month,\n",
    "            \"cos_month\": cos_month\n",
    "        }\n",
    "        \n",
    "        X_current = pd.DataFrame([data])\n",
    "        X_current_scaled = feature_scaler.transform(X_current)\n",
    "        X_current_scaled = pd.DataFrame(X_current_scaled, columns=X_current.columns)\n",
    "        \n",
    "        y_pred_scaled = model.predict(X_current_scaled)\n",
    "        y_pred = target_scaler.inverse_transform(y_pred_scaled.reshape(-1, 1)).ravel()[0]\n",
    "        y_pred = round(y_pred, 3)\n",
    "        \n",
    "        predictions[dt.strftime(\"%Y-%m-%d %H:%M:%S\")] = y_pred\n",
    "        \n",
    "        # Actualizar recursivamente la historia y last_week_hourly_mean\n",
    "        history.append(y_pred)\n",
    "        if len(history) > 12:\n",
    "            history = history[-12:]\n",
    "        last_week_value = y_pred\n",
    "    \n",
    "    return {str(station): predictions}"
   ]
  },
  {
   "cell_type": "markdown",
   "id": "a1eef8f7-6db2-4225-a4d6-e487ded3f05a",
   "metadata": {
    "tags": []
   },
   "source": [
    "## Results"
   ]
  },
  {
   "cell_type": "code",
   "execution_count": 126,
   "id": "5d1b4ea9-460a-4899-9dc8-d22c2c90aa68",
   "metadata": {
    "tags": []
   },
   "outputs": [],
   "source": [
    "SO2_dict = iterative_predict_for_period_from_dataset(\n",
    "    start_date='2023-07-01 00:00:00',\n",
    "    end_date='2023-07-31 23:00:00',\n",
    "    model=SO2_model,\n",
    "    feature_scaler=SO2_x_scaler,\n",
    "    target_scaler=SO2_y_scaler,\n",
    "    freq='H',\n",
    "    station=206,\n",
    "    historical_df=df_SO2_descaled\n",
    ")"
   ]
  },
  {
   "cell_type": "code",
   "execution_count": 127,
   "id": "6c6232ff-c4cc-478e-a826-4d7cecf23ca8",
   "metadata": {
    "tags": []
   },
   "outputs": [
    {
     "data": {
      "text/plain": [
       "744"
      ]
     },
     "execution_count": 127,
     "metadata": {},
     "output_type": "execute_result"
    }
   ],
   "source": [
    "len(SO2_dict['206'])"
   ]
  },
  {
   "cell_type": "code",
   "execution_count": 128,
   "id": "4617b373-75f4-4f40-b528-d5025c146279",
   "metadata": {
    "tags": []
   },
   "outputs": [],
   "source": [
    "NO2_dict = iterative_predict_for_period_from_dataset(\n",
    "    start_date='2023-08-01 00:00:00',\n",
    "    end_date='2023-08-31 23:00:00',\n",
    "    model=NO2_model,\n",
    "    feature_scaler=NO2_x_scaler,\n",
    "    target_scaler=NO2_y_scaler,\n",
    "    freq='H',\n",
    "    station=211,\n",
    "    historical_df=df_NO2_descaled\n",
    ")"
   ]
  },
  {
   "cell_type": "code",
   "execution_count": 129,
   "id": "982235c6-cbc3-4137-a60b-504f7ba428c5",
   "metadata": {
    "tags": []
   },
   "outputs": [
    {
     "data": {
      "text/plain": [
       "744"
      ]
     },
     "execution_count": 129,
     "metadata": {},
     "output_type": "execute_result"
    }
   ],
   "source": [
    "len(NO2_dict['211'])"
   ]
  },
  {
   "cell_type": "code",
   "execution_count": 132,
   "id": "05387e0c-12cd-409c-86f5-611cdd95f36a",
   "metadata": {
    "tags": []
   },
   "outputs": [],
   "source": [
    "O3_dict = iterative_predict_for_period_from_dataset(\n",
    "    start_date='2023-09-01 00:00:00',\n",
    "    end_date='2023-09-30 23:00:00',\n",
    "    model=O3_model,\n",
    "    feature_scaler=O3_x_scaler,\n",
    "    target_scaler=O3_y_scaler,\n",
    "    freq='H',\n",
    "    station=217,\n",
    "    historical_df=df_O3_descaled\n",
    ")"
   ]
  },
  {
   "cell_type": "code",
   "execution_count": 133,
   "id": "f26afde2-5c82-497c-a06f-4557946c0497",
   "metadata": {
    "tags": []
   },
   "outputs": [
    {
     "data": {
      "text/plain": [
       "720"
      ]
     },
     "execution_count": 133,
     "metadata": {},
     "output_type": "execute_result"
    }
   ],
   "source": [
    "len(O3_dict['217'])"
   ]
  },
  {
   "cell_type": "code",
   "execution_count": 134,
   "id": "eede6a16-ceb3-4f01-a676-0264d20cf7ff",
   "metadata": {
    "tags": []
   },
   "outputs": [],
   "source": [
    "CO_dict = iterative_predict_for_period_from_dataset(\n",
    "    start_date='2023-10-01 00:00:00',\n",
    "    end_date='2023-10-31 23:00:00',\n",
    "    model=CO_model,\n",
    "    feature_scaler=CO_x_scaler,\n",
    "    target_scaler=CO_y_scaler,\n",
    "    freq='H',\n",
    "    station=219,\n",
    "    historical_df=df_CO_descaled\n",
    ")"
   ]
  },
  {
   "cell_type": "code",
   "execution_count": 135,
   "id": "b748d329-2aa1-4668-8df2-47321ec84161",
   "metadata": {
    "tags": []
   },
   "outputs": [
    {
     "data": {
      "text/plain": [
       "744"
      ]
     },
     "execution_count": 135,
     "metadata": {},
     "output_type": "execute_result"
    }
   ],
   "source": [
    "len(CO_dict['219'])"
   ]
  },
  {
   "cell_type": "code",
   "execution_count": 136,
   "id": "df961a4a-6500-46b4-9e8f-36919870db59",
   "metadata": {
    "tags": []
   },
   "outputs": [],
   "source": [
    "PM10_dict = iterative_predict_for_period_from_dataset(\n",
    "    start_date='2023-11-01 00:00:00',\n",
    "    end_date='2023-11-30 23:00:00',\n",
    "    model=PM10_model,\n",
    "    feature_scaler=PM10_x_scaler,\n",
    "    target_scaler=PM10_y_scaler,\n",
    "    freq='H',\n",
    "    station=225,\n",
    "    historical_df=df_PM10_descaled\n",
    ")"
   ]
  },
  {
   "cell_type": "code",
   "execution_count": 137,
   "id": "394e7f9d-9e4a-4ecb-825c-eefd149b6de7",
   "metadata": {
    "tags": []
   },
   "outputs": [
    {
     "data": {
      "text/plain": [
       "720"
      ]
     },
     "execution_count": 137,
     "metadata": {},
     "output_type": "execute_result"
    }
   ],
   "source": [
    "len(PM10_dict['225'])"
   ]
  },
  {
   "cell_type": "code",
   "execution_count": 138,
   "id": "c6be86ca-4963-4fa2-bd2d-fe3a11f56ef9",
   "metadata": {
    "tags": []
   },
   "outputs": [],
   "source": [
    "PM2_dict = iterative_predict_for_period_from_dataset(\n",
    "    start_date='2023-12-01 00:00:00',\n",
    "    end_date='2023-12-31 23:00:00',\n",
    "    model=PM2_model,\n",
    "    feature_scaler=PM2_5_x_scaler,\n",
    "    target_scaler=PM2_5_y_scaler,\n",
    "    freq='H',\n",
    "    station=228,\n",
    "    historical_df=df_PM2_5_descaled\n",
    ")"
   ]
  },
  {
   "cell_type": "code",
   "execution_count": 139,
   "id": "338ccb34-ab48-452c-a0cb-d656eef18353",
   "metadata": {
    "tags": []
   },
   "outputs": [
    {
     "data": {
      "text/plain": [
       "744"
      ]
     },
     "execution_count": 139,
     "metadata": {},
     "output_type": "execute_result"
    }
   ],
   "source": [
    "len(PM2_dict['228'])"
   ]
  },
  {
   "cell_type": "code",
   "execution_count": 140,
   "id": "55ce6032-7dae-4fbe-82c5-b241ff8b20f5",
   "metadata": {
    "tags": []
   },
   "outputs": [],
   "source": [
    "predictions = {\n",
    "    \"target\": {}\n",
    "}\n",
    "\n",
    "predictions[\"target\"].update(SO2_dict)\n",
    "predictions[\"target\"].update(NO2_dict)\n",
    "predictions[\"target\"].update(O3_dict)\n",
    "predictions[\"target\"].update(CO_dict)\n",
    "predictions[\"target\"].update(PM10_dict)\n",
    "predictions[\"target\"].update(PM2_dict)\n",
    "\n",
    "with open(\"../../predictions/predictions_task_2.json\", \"w\") as f:\n",
    "    json.dump(predictions, f, indent=4)"
   ]
  },
  {
   "cell_type": "code",
   "execution_count": null,
   "id": "f2adb362-6531-46bd-998a-f3680c90d389",
   "metadata": {},
   "outputs": [],
   "source": []
  },
  {
   "cell_type": "code",
   "execution_count": null,
   "id": "7bfe1dc6-b838-40ce-bb89-313db1a3cede",
   "metadata": {},
   "outputs": [],
   "source": []
  },
  {
   "cell_type": "code",
   "execution_count": null,
   "id": "297a2f7f-9d5a-4c8a-a4c7-412222ee4c16",
   "metadata": {},
   "outputs": [],
   "source": []
  }
 ],
 "metadata": {
  "kernelspec": {
   "display_name": "Python 3 (ipykernel)",
   "language": "python",
   "name": "python3"
  },
  "language_info": {
   "codemirror_mode": {
    "name": "ipython",
    "version": 3
   },
   "file_extension": ".py",
   "mimetype": "text/x-python",
   "name": "python",
   "nbconvert_exporter": "python",
   "pygments_lexer": "ipython3",
   "version": "3.11.7"
  }
 },
 "nbformat": 4,
 "nbformat_minor": 5
}
